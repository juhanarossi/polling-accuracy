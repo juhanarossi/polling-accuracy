{
 "cells": [
  {
   "cell_type": "markdown",
   "metadata": {},
   "source": [
    "# Python and R"
   ]
  },
  {
   "cell_type": "code",
   "execution_count": 1,
   "metadata": {},
   "outputs": [
    {
     "name": "stderr",
     "output_type": "stream",
     "text": [
      "C:\\Users\\Juhana\\scoop\\apps\\pyenv\\current\\pyenv-win\\versions\\3.11.0rc2\\Lib\\site-packages\\rpy2\\robjects\\packages.py:367: UserWarning: The symbol 'quartz' is not in this R namespace/package.\n",
      "  warnings.warn(\n"
     ]
    }
   ],
   "source": [
    "%load_ext rpy2.ipython\n",
    "%load_ext autoreload\n",
    "%autoreload 2\n",
    "\n",
    "%matplotlib inline  \n",
    "from matplotlib import rcParams\n",
    "rcParams['figure.figsize'] = (16, 100)\n",
    "\n",
    "import warnings\n",
    "from rpy2.rinterface import RRuntimeWarning\n",
    "warnings.filterwarnings(\"ignore\") # Ignore all warnings\n",
    "# warnings.filterwarnings(\"ignore\", category=RRuntimeWarning) # Show some warnings\n",
    "\n",
    "import pandas as pd\n",
    "import numpy as np\n",
    "import matplotlib.pyplot as plt\n",
    "from IPython.display import display, HTML"
   ]
  },
  {
   "cell_type": "code",
   "execution_count": 2,
   "metadata": {},
   "outputs": [
    {
     "data": {
      "application/javascript": [
       "// Disable auto-scrolling\n",
       "IPython.OutputArea.prototype._should_scroll = function(lines) {\n",
       "    return false;\n",
       "}\n"
      ],
      "text/plain": [
       "<IPython.core.display.Javascript object>"
      ]
     },
     "metadata": {},
     "output_type": "display_data"
    }
   ],
   "source": [
    "%%javascript\n",
    "// Disable auto-scrolling\n",
    "IPython.OutputArea.prototype._should_scroll = function(lines) {\n",
    "    return false;\n",
    "}"
   ]
  },
  {
   "cell_type": "code",
   "execution_count": 3,
   "metadata": {},
   "outputs": [
    {
     "name": "stderr",
     "output_type": "stream",
     "text": [
      "R[write to console]: Loading required package: tidyverse\n",
      "\n"
     ]
    },
    {
     "name": "stdout",
     "output_type": "stream",
     "text": [
      "-- \u001b[1mAttaching packages\u001b[22m --------------------------------------------------------------------------------------------------------- tidyverse 1.3.2 --\n",
      "\u001b[32mv\u001b[39m \u001b[34mggplot2\u001b[39m 3.4.0      \u001b[32mv\u001b[39m \u001b[34mpurrr  \u001b[39m 1.0.1 \n",
      "\u001b[32mv\u001b[39m \u001b[34mtibble \u001b[39m 3.1.8      \u001b[32mv\u001b[39m \u001b[34mdplyr  \u001b[39m 1.0.10\n",
      "\u001b[32mv\u001b[39m \u001b[34mtidyr  \u001b[39m 1.2.1      \u001b[32mv\u001b[39m \u001b[34mstringr\u001b[39m 1.4.1 \n",
      "\u001b[32mv\u001b[39m \u001b[34mreadr  \u001b[39m 2.1.3      \u001b[32mv\u001b[39m \u001b[34mforcats\u001b[39m 0.5.2 \n",
      "-- \u001b[1mConflicts\u001b[22m ------------------------------------------------------------------------------------------------------------ tidyverse_conflicts() --\n",
      "\u001b[31mx\u001b[39m \u001b[34mdplyr\u001b[39m::\u001b[32mfilter()\u001b[39m masks \u001b[34mstats\u001b[39m::filter()\n",
      "\u001b[31mx\u001b[39m \u001b[34mdplyr\u001b[39m::\u001b[32mlag()\u001b[39m    masks \u001b[34mstats\u001b[39m::lag()\n"
     ]
    }
   ],
   "source": [
    "%%R\n",
    "\n",
    "# My commonly used R imports\n",
    "\n",
    "require('tidyverse')\n"
   ]
  },
  {
   "cell_type": "markdown",
   "metadata": {},
   "source": [
    "\n",
    "# The Data\n",
    "\n",
    "For this repository, we'll be working with FiveThirtyEight's Pollster Ratings database. First, watch these primer videos that will help you better understand public opinion polling, and the pollster ratings data in particular:\n",
    "\n",
    "- https://www.youtube.com/watch?v=TambSayfCOE\n",
    "- https://www.youtube.com/watch?v=fzzX9jHDK4k\n",
    "\n",
    "While FiveThirtyEight publishes [pollster ratings](https://projects.fivethirtyeight.com/pollster-ratings/), I ask that you do not consult those as you do this assignment. I also ask that you not do outside reading about the reputation of individual pollsters. This assignment is an exercise in discovering insights about this dataset. When we debrief, we will look into the kinds of insights that journalists have been able to produce and see.\n",
    "\n",
    "I have pulled the underlying data into a file called `raw-polls.csv` which you will find in this repository. It contain polls from the final 21 days of Presidential, Senate, and Gubernatorial elections. \n",
    "\n",
    "Let's start by looking at presidential elections only:"
   ]
  },
  {
   "cell_type": "code",
   "execution_count": 5,
   "metadata": {},
   "outputs": [],
   "source": [
    "# EXAMPLE PYTHON CELL\n",
    "df = pd.read_csv('raw-polls.csv')\\\n",
    "    .query(\"type_simple=='Pres-G'\")"
   ]
  },
  {
   "cell_type": "markdown",
   "metadata": {},
   "source": [
    "You can find documentation about the meanings of these columns here: \n",
    "https://github.com/fivethirtyeight/data/tree/master/pollster-ratings\n",
    "\n",
    "Please note that I have strategically removed some columns, so you won't find all of the columns in the original datasest here in this assignment.\n",
    "\n",
    "Here is how we can load that same data in R and filter down to just presidential polls (just as we did above in Python)."
   ]
  },
  {
   "cell_type": "code",
   "execution_count": 6,
   "metadata": {},
   "outputs": [
    {
     "name": "stderr",
     "output_type": "stream",
     "text": [
      "R[write to console]: \n",
      "R[write to console]: \u001b[1mindexed\u001b[0m \u001b[32m0B\u001b[0m in \u001b[36m 0s\u001b[0m, \u001b[32m0B/s\u001b[0m\n",
      "R[write to console]: \n",
      "R[write to console]: \u001b[1mindexed\u001b[0m \u001b[32m2.15GB\u001b[0m in \u001b[36m 0s\u001b[0m, \u001b[32m2.15GB/s\u001b[0m\n",
      "                                                                              \n",
      "R[write to console]: \n"
     ]
    },
    {
     "name": "stdout",
     "output_type": "stream",
     "text": [
      "\u001b[1mRows: \u001b[22m\u001b[34m10776\u001b[39m \u001b[1mColumns: \u001b[22m\u001b[34m31\u001b[39m\n",
      "\u001b[36m--\u001b[39m \u001b[1mColumn specification\u001b[22m \u001b[36m--------------------------------------------------------------------------------------------------------------------------\u001b[39m\n",
      "\u001b[1mDelimiter:\u001b[22m \",\"\n",
      "\u001b[31mchr\u001b[39m (14): race, location, type_simple, type_detail, pollster, methodology, p...\n",
      "\u001b[32mdbl\u001b[39m (17): poll_id, question_id, race_id, year, pollster_rating_id, samplesiz...\n",
      "\n",
      "\u001b[36mi\u001b[39m Use `spec()` to retrieve the full column specification for this data.\n",
      "\u001b[36mi\u001b[39m Specify the column types or set `show_col_types = FALSE` to quiet this message.\n",
      "\u001b[38;5;246m# A tibble: 2,940 x 31\u001b[39m\n",
      "   poll_id questio~1 race_id  year race  locat~2 type_~3 type_~4 polls~5 polls~6\n",
      "     \u001b[3m\u001b[38;5;246m<dbl>\u001b[39m\u001b[23m     \u001b[3m\u001b[38;5;246m<dbl>\u001b[39m\u001b[23m   \u001b[3m\u001b[38;5;246m<dbl>\u001b[39m\u001b[23m \u001b[3m\u001b[38;5;246m<dbl>\u001b[39m\u001b[23m \u001b[3m\u001b[38;5;246m<chr>\u001b[39m\u001b[23m \u001b[3m\u001b[38;5;246m<chr>\u001b[39m\u001b[23m   \u001b[3m\u001b[38;5;246m<chr>\u001b[39m\u001b[23m   \u001b[3m\u001b[38;5;246m<chr>\u001b[39m\u001b[23m   \u001b[3m\u001b[38;5;246m<chr>\u001b[39m\u001b[23m     \u001b[3m\u001b[38;5;246m<dbl>\u001b[39m\u001b[23m\n",
      "\u001b[38;5;250m 1\u001b[39m    \u001b[4m6\u001b[24m478      \u001b[4m7\u001b[24m947      40  \u001b[4m2\u001b[24m000 2000~ US      Pres-G  Pres-G  Zogby ~     395\n",
      "\u001b[38;5;250m 2\u001b[39m    \u001b[4m6\u001b[24m483      \u001b[4m7\u001b[24m952     815  \u001b[4m2\u001b[24m000 2000~ FL      Pres-G  Pres-G  McLaug~     203\n",
      "\u001b[38;5;250m 3\u001b[39m    \u001b[4m6\u001b[24m470      \u001b[4m7\u001b[24m939     820  \u001b[4m2\u001b[24m000 2000~ IL      Pres-G  Pres-G  KRC Re~     160\n",
      "\u001b[38;5;250m 4\u001b[39m    \u001b[4m6\u001b[24m473      \u001b[4m7\u001b[24m942     820  \u001b[4m2\u001b[24m000 2000~ IL      Pres-G  Pres-G  Resear~     281\n",
      "\u001b[38;5;250m 5\u001b[39m    \u001b[4m6\u001b[24m474      \u001b[4m7\u001b[24m943     836  \u001b[4m2\u001b[24m000 2000~ NH      Pres-G  Pres-G  Resear~     281\n",
      "\u001b[38;5;250m 6\u001b[39m    \u001b[4m6\u001b[24m472      \u001b[4m7\u001b[24m941     844  \u001b[4m2\u001b[24m000 2000~ PA      Pres-G  Pres-G  Lincol~     170\n",
      "\u001b[38;5;250m 7\u001b[39m    \u001b[4m6\u001b[24m459    \u001b[4m1\u001b[24m\u001b[4m2\u001b[24m\u001b[4m3\u001b[24m272      40  \u001b[4m2\u001b[24m000 2000~ US      Pres-G  Pres-G  NBC Ne~     221\n",
      "\u001b[38;5;250m 8\u001b[39m   \u001b[4m6\u001b[24m\u001b[4m3\u001b[24m601    \u001b[4m1\u001b[24m\u001b[4m1\u001b[24m\u001b[4m7\u001b[24m065      40  \u001b[4m2\u001b[24m000 2000~ US      Pres-G  Pres-G  Rasmus~     277\n",
      "\u001b[38;5;250m 9\u001b[39m    \u001b[4m6\u001b[24m479      \u001b[4m7\u001b[24m948     807  \u001b[4m2\u001b[24m000 2000~ AL      Pres-G  Pres-G  Univer~     361\n",
      "\u001b[38;5;250m10\u001b[39m   \u001b[4m2\u001b[24m\u001b[4m5\u001b[24m719      \u001b[4m7\u001b[24m940     828  \u001b[4m2\u001b[24m000 2000~ MI      Pres-G  Pres-G  EPIC-M~      84\n",
      "\u001b[38;5;246m# ... with 2,930 more rows, 21 more variables: methodology <chr>,\u001b[39m\n",
      "\u001b[38;5;246m#   partisan <chr>, polldate <chr>, samplesize <dbl>, cand1_name <chr>,\u001b[39m\n",
      "\u001b[38;5;246m#   cand1_id <dbl>, cand1_party <chr>, cand1_pct <dbl>, cand2_name <chr>,\u001b[39m\n",
      "\u001b[38;5;246m#   cand2_id <dbl>, cand2_party <chr>, cand2_pct <dbl>, cand3_pct <dbl>,\u001b[39m\n",
      "\u001b[38;5;246m#   margin_poll <dbl>, electiondate <chr>, cand1_actual <dbl>,\u001b[39m\n",
      "\u001b[38;5;246m#   cand2_actual <dbl>, margin_actual <dbl>, bias <dbl>, rightcall <dbl>,\u001b[39m\n",
      "\u001b[38;5;246m#   comment <chr>, and abbreviated variable names 1: question_id, ...\u001b[39m\n",
      "\u001b[38;5;246m# i Use `print(n = ...)` to see more rows, and `colnames()` to see all variable names\u001b[39m\n"
     ]
    }
   ],
   "source": [
    "%%R\n",
    "\n",
    "# EXAMPLE R CELL\n",
    "df <- read_csv('raw-polls.csv') %>% \n",
    "    filter(type_simple=='Pres-G')\n",
    "\n",
    "df"
   ]
  },
  {
   "cell_type": "markdown",
   "metadata": {},
   "source": [
    "Before we dive into exploratory data viz, make sure you understand what all the columns in the spreadsheet are. There is a data dictionary on FiveThirtyEight’s GitHub page for this dataset that you can reference. If there is something you don’t understand, try asking your classmates in the #algorithms23 Slack channel.\n",
    "\n",
    "Answer the questions below about the limitations and possibilities of what you can and cannot learn using this dataset."
   ]
  },
  {
   "cell_type": "markdown",
   "metadata": {},
   "source": [
    "## 👉 Possibilties and Limitations\n",
    "\n",
    "_Whenever you see the 👉 icon, that means you need to write an answer._\n",
    "\n",
    "👉 Questions about the accuracy of election polling in the U.S. that this dataset should allow me to answer (answer in bullet points below):\n",
    "- `rightcall` column enables me to answer a question of overall accuracy of polls: how accurately do they predict the winners of individual races? \n",
    "- substracting `margin_poll` from `margin_actual` allows to analyze the methodological efficacy of the polls. If the actual and margin polls diverge even if the poll predicted the winner accurately, it adds a layer caution to the usefulness of the poll\n"
   ]
  },
  {
   "cell_type": "markdown",
   "metadata": {},
   "source": [
    "👉 Questions about the accuracy of election polling in the U.S. that I won’t be able to answer with this dataset alone (answer in bullet points below):\n",
    "\n",
    "- No good methodological question comes to mind, but I would assume that polls are more useful in reflecting the expected voter preferences when they are closer in time to actual polling day and the race is well-defined\n"
   ]
  },
  {
   "cell_type": "markdown",
   "metadata": {},
   "source": [
    "👉 Questions I have about this dataset. What don't you know about it that you'd like to in order to responsibly use this data to report on elections?\n",
    "- Are some polls methodologically stronger or better? Should the \"better\" polls receive more weight in aggregating results? I would assume that all poll mee a minimun quality threshold"
   ]
  },
  {
   "cell_type": "code",
   "execution_count": null,
   "metadata": {},
   "outputs": [],
   "source": []
  }
 ],
 "metadata": {
  "kernelspec": {
   "display_name": "Python 3 (ipykernel)",
   "language": "python",
   "name": "python3"
  },
  "language_info": {
   "codemirror_mode": {
    "name": "ipython",
    "version": 3
   },
   "file_extension": ".py",
   "mimetype": "text/x-python",
   "name": "python",
   "nbconvert_exporter": "python",
   "pygments_lexer": "ipython3",
   "version": "3.11.0rc2"
  },
  "vscode": {
   "interpreter": {
    "hash": "34166945ca6cc351f9d38b360afe1a928411c84fd696a9e2d08d61ef3f7e4692"
   }
  }
 },
 "nbformat": 4,
 "nbformat_minor": 2
}
